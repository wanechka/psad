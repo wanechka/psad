{
  "nbformat": 4,
  "nbformat_minor": 0,
  "metadata": {
    "colab": {
      "name": "psad_1_week.ipynb",
      "provenance": []
    },
    "kernelspec": {
      "name": "python3",
      "display_name": "Python 3"
    },
    "language_info": {
      "name": "python"
    }
  },
  "cells": [
    {
      "cell_type": "markdown",
      "source": [
        "#**Прикладной статистический анализ данных. Первая неделя**"
      ],
      "metadata": {
        "id": "LXI5I5qg8Hc8"
      }
    },
    {
      "cell_type": "markdown",
      "source": [
        "##Задание:\n",
        "Для выборки:https://github.com/Intelligent-Systems-Phystech/psad/tree/master/hometask/sem1/t.csv\n",
        "посчитать среднее, медиану, дисперсию (несмещённую оценку), медиану для отрицательных, максимальную моду, число мод, 42 порядковую статистику.\n",
        "\n",
        "Приступим!"
      ],
      "metadata": {
        "id": "brTZvYib8rPc"
      }
    },
    {
      "cell_type": "code",
      "execution_count": 1,
      "metadata": {
        "id": "bVgk8HcoiCe8"
      },
      "outputs": [],
      "source": [
        "import numpy as np\n",
        "import matplotlib.pylab as plt\n",
        "from matplotlib import gridspec\n",
        "import pandas as pd\n",
        "import scipy.stats as st\n",
        "import seaborn as sns"
      ]
    },
    {
      "cell_type": "code",
      "source": [
        "data = pd.read_csv('https://raw.githubusercontent.com/Intelligent-Systems-Phystech/psad/master/hometask/sem1/t.csv', header=None)\n",
        "data_num = data.to_numpy().flatten()\n"
      ],
      "metadata": {
        "id": "tSVqXp-piZZb"
      },
      "execution_count": 2,
      "outputs": []
    },
    {
      "cell_type": "markdown",
      "source": [
        "###Найдём моды и максимальную из них"
      ],
      "metadata": {
        "id": "AVFN2DqX9b92"
      }
    },
    {
      "cell_type": "code",
      "source": [
        "vals, counts = np.unique(data_num, return_counts=True)\n",
        "mode_values = np.argwhere(counts == np.max(counts))\n",
        "\n",
        "modes = vals[mode_values].flatten()\n",
        "\n",
        "print('max mode = {:.3f}'.format(max(modes)))\n",
        "print('number of modes = {}'.format(len(modes)))"
      ],
      "metadata": {
        "colab": {
          "base_uri": "https://localhost:8080/"
        },
        "id": "5qdINc0w7fT3",
        "outputId": "ee313790-c587-4203-beca-8167c6ff39b2"
      },
      "execution_count": 3,
      "outputs": [
        {
          "output_type": "stream",
          "name": "stdout",
          "text": [
            "max mode = -194.000\n",
            "number of modes = 2\n"
          ]
        }
      ]
    },
    {
      "cell_type": "markdown",
      "source": [
        "###Среднее"
      ],
      "metadata": {
        "id": "ZIpVUNfyDxzr"
      }
    },
    {
      "cell_type": "code",
      "source": [
        "print('mean = {:.3f}'.format(np.mean(data_num)))"
      ],
      "metadata": {
        "colab": {
          "base_uri": "https://localhost:8080/"
        },
        "id": "WlPjUrd78to5",
        "outputId": "96f5f653-6446-48f0-849d-97e86245526c"
      },
      "execution_count": 4,
      "outputs": [
        {
          "output_type": "stream",
          "name": "stdout",
          "text": [
            "mean = -1.078\n"
          ]
        }
      ]
    },
    {
      "cell_type": "markdown",
      "source": [
        "###Медиана"
      ],
      "metadata": {
        "id": "lJH6Ih79Ejwq"
      }
    },
    {
      "cell_type": "code",
      "source": [
        "print('median = {:.3f}'.format(np.median(data_num)))"
      ],
      "metadata": {
        "colab": {
          "base_uri": "https://localhost:8080/"
        },
        "id": "ZPoB2Az4NbNk",
        "outputId": "cd4ea5e7-bbc1-4400-8206-a31828604425"
      },
      "execution_count": 5,
      "outputs": [
        {
          "output_type": "stream",
          "name": "stdout",
          "text": [
            "median = -1.000\n"
          ]
        }
      ]
    },
    {
      "cell_type": "markdown",
      "source": [
        "###Медиана для неотрицательных"
      ],
      "metadata": {
        "id": "Oi1MvjIPEtT-"
      }
    },
    {
      "cell_type": "code",
      "source": [
        "print('median for non-negative = {:.3f}'.format(np.median(data_num[data_num >= 0])))"
      ],
      "metadata": {
        "colab": {
          "base_uri": "https://localhost:8080/"
        },
        "id": "03VR0uI7PXO7",
        "outputId": "28fcc50a-444c-46c9-f1ed-c8fc18072db5"
      },
      "execution_count": 6,
      "outputs": [
        {
          "output_type": "stream",
          "name": "stdout",
          "text": [
            "median for non-negative = 125.000\n"
          ]
        }
      ]
    },
    {
      "cell_type": "markdown",
      "source": [
        "###Несмещённая дисперсия"
      ],
      "metadata": {
        "id": "PPamNPmmIfNt"
      }
    },
    {
      "cell_type": "code",
      "source": [
        "print('unbiased variance estimation = {:.3f}'.format(np.var(data_num, ddof=1)))"
      ],
      "metadata": {
        "colab": {
          "base_uri": "https://localhost:8080/"
        },
        "id": "55rqx5rn4O_B",
        "outputId": "aee78d79-4323-40f3-8e15-5be245980ca2"
      },
      "execution_count": 10,
      "outputs": [
        {
          "output_type": "stream",
          "name": "stdout",
          "text": [
            "unbiased variance estimation = 21189.841\n"
          ]
        }
      ]
    },
    {
      "cell_type": "markdown",
      "source": [
        "###Поиск порядковой статистики\n"
      ],
      "metadata": {
        "id": "jA6ckOLaNJ0X"
      }
    },
    {
      "cell_type": "code",
      "source": [
        "print('42th order statistics = {:.3f}'.format(np.partition(data_num, 41)[41]))"
      ],
      "metadata": {
        "colab": {
          "base_uri": "https://localhost:8080/"
        },
        "id": "vhhyCmCk6Bce",
        "outputId": "bced6649-8c21-4dc4-b10c-b2252a38506a"
      },
      "execution_count": 17,
      "outputs": [
        {
          "output_type": "stream",
          "name": "stdout",
          "text": [
            "42th order statistics = -249.000\n",
            "-249.0\n"
          ]
        }
      ]
    }
  ]
}