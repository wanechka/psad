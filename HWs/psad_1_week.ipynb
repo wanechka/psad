{
  "nbformat": 4,
  "nbformat_minor": 0,
  "metadata": {
    "colab": {
      "name": "psad_1_week.ipynb",
      "provenance": []
    },
    "kernelspec": {
      "name": "python3",
      "display_name": "Python 3"
    },
    "language_info": {
      "name": "python"
    }
  },
  "cells": [
    {
      "cell_type": "markdown",
      "source": [
        "#**Прикладной статистический анализ данных. Первая неделя**"
      ],
      "metadata": {
        "id": "LXI5I5qg8Hc8"
      }
    },
    {
      "cell_type": "markdown",
      "source": [
        "##Задание:\n",
        "Для выборки:https://github.com/Intelligent-Systems-Phystech/psad/tree/master/hometask/sem1/t.csv\n",
        "посчитать среднее, медиану, дисперсию (несмещённую оценку), медиану для отрицательных, максимальную моду, число мод, 42 порядковую статистику.\n",
        "\n",
        "Приступим!"
      ],
      "metadata": {
        "id": "brTZvYib8rPc"
      }
    },
    {
      "cell_type": "code",
      "execution_count": 1,
      "metadata": {
        "id": "bVgk8HcoiCe8"
      },
      "outputs": [],
      "source": [
        "import numpy as np\n",
        "import matplotlib.pylab as plt\n",
        "from matplotlib import gridspec\n",
        "import pandas as pd\n",
        "import scipy.stats as st\n",
        "import seaborn as sns"
      ]
    },
    {
      "cell_type": "code",
      "source": [
        "data = pd.read_csv('https://raw.githubusercontent.com/Intelligent-Systems-Phystech/psad/master/hometask/sem1/t.csv', header=None)\n",
        "data_num = data.to_numpy().flatten()\n"
      ],
      "metadata": {
        "id": "tSVqXp-piZZb"
      },
      "execution_count": 2,
      "outputs": []
    },
    {
      "cell_type": "markdown",
      "source": [
        "###Найдём моды и максимальную из них"
      ],
      "metadata": {
        "id": "AVFN2DqX9b92"
      }
    },
    {
      "cell_type": "code",
      "source": [
        "vals, counts = np.unique(data_num, return_counts=True)\n",
        "mode_values = np.argwhere(counts == np.max(counts))\n",
        "\n",
        "modes = vals[mode_values].flatten()\n",
        "\n",
        "print('max mode = {:.3f}'.format(max(modes)))\n",
        "print('number of modes = {}'.format(len(modes)))"
      ],
      "metadata": {
        "colab": {
          "base_uri": "https://localhost:8080/"
        },
        "id": "5qdINc0w7fT3",
        "outputId": "476f4133-31e0-494f-ebef-81a2e4f9e286"
      },
      "execution_count": 10,
      "outputs": [
        {
          "output_type": "stream",
          "name": "stdout",
          "text": [
            "max mode = -194.000\n",
            "number of modes = 2\n"
          ]
        }
      ]
    },
    {
      "cell_type": "markdown",
      "source": [
        "###Среднее"
      ],
      "metadata": {
        "id": "ZIpVUNfyDxzr"
      }
    },
    {
      "cell_type": "code",
      "source": [
        "print('mean = {:.3f}'.format(np.mean(data_num)))"
      ],
      "metadata": {
        "colab": {
          "base_uri": "https://localhost:8080/"
        },
        "id": "WlPjUrd78to5",
        "outputId": "b75f3d37-f568-45d4-e1e9-15735e6f6bad"
      },
      "execution_count": 9,
      "outputs": [
        {
          "output_type": "stream",
          "name": "stdout",
          "text": [
            "mean = -1.078\n"
          ]
        }
      ]
    },
    {
      "cell_type": "markdown",
      "source": [
        "###Медиана"
      ],
      "metadata": {
        "id": "lJH6Ih79Ejwq"
      }
    },
    {
      "cell_type": "code",
      "source": [
        "print('median = {:.3f}'.format(np.median(data_num)))"
      ],
      "metadata": {
        "colab": {
          "base_uri": "https://localhost:8080/"
        },
        "id": "ZPoB2Az4NbNk",
        "outputId": "8646070a-35c3-4f2d-e7af-3de82351c1fe"
      },
      "execution_count": 11,
      "outputs": [
        {
          "output_type": "stream",
          "name": "stdout",
          "text": [
            "median = -1.000\n"
          ]
        }
      ]
    },
    {
      "cell_type": "markdown",
      "source": [
        "###Медиана для неотрицательных"
      ],
      "metadata": {
        "id": "Oi1MvjIPEtT-"
      }
    },
    {
      "cell_type": "code",
      "source": [
        "print('median for non-negative = {:.3f}'.format(np.median(data_num[data_num >= 0])))"
      ],
      "metadata": {
        "colab": {
          "base_uri": "https://localhost:8080/"
        },
        "id": "03VR0uI7PXO7",
        "outputId": "123718bc-226d-48dd-8088-bbf3ff9aaf5e"
      },
      "execution_count": 23,
      "outputs": [
        {
          "output_type": "stream",
          "name": "stdout",
          "text": [
            "median for non-negative = 125.000\n"
          ]
        }
      ]
    },
    {
      "cell_type": "markdown",
      "source": [
        "###Несмещённая дисперсия"
      ],
      "metadata": {
        "id": "PPamNPmmIfNt"
      }
    },
    {
      "cell_type": "code",
      "source": [
        "print('unbiased variance estimation = {:.3f}'.format(np.var(data_num, ddof=1)))"
      ],
      "metadata": {
        "colab": {
          "base_uri": "https://localhost:8080/"
        },
        "id": "55rqx5rn4O_B",
        "outputId": "e0cc9d3f-9bfb-47ff-e7f3-d02d386dcb38"
      },
      "execution_count": 24,
      "outputs": [
        {
          "output_type": "stream",
          "name": "stdout",
          "text": [
            "unbiased variance estimation = 21189.841\n"
          ]
        }
      ]
    },
    {
      "cell_type": "markdown",
      "source": [
        "###Поиск порядковой статистики\n"
      ],
      "metadata": {
        "id": "jA6ckOLaNJ0X"
      }
    },
    {
      "cell_type": "code",
      "source": [
        "print('42th order statistics = {:.3f}'.format(np.partition(data_num, 42)[42]))"
      ],
      "metadata": {
        "colab": {
          "base_uri": "https://localhost:8080/"
        },
        "id": "vhhyCmCk6Bce",
        "outputId": "773f0736-3281-4606-891a-53629358d205"
      },
      "execution_count": 26,
      "outputs": [
        {
          "output_type": "stream",
          "name": "stdout",
          "text": [
            "42th order statistics = -249.000\n"
          ]
        }
      ]
    }
  ]
}